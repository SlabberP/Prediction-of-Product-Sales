{
  "nbformat": 4,
  "nbformat_minor": 0,
  "metadata": {
    "colab": {
      "provenance": [],
      "authorship_tag": "ABX9TyOHthoJZv5kMM2KfOYOXv+J",
      "include_colab_link": true
    },
    "kernelspec": {
      "name": "python3",
      "display_name": "Python 3"
    },
    "language_info": {
      "name": "python"
    }
  },
  "cells": [
    {
      "cell_type": "markdown",
      "metadata": {
        "id": "view-in-github",
        "colab_type": "text"
      },
      "source": [
        "<a href=\"https://colab.research.google.com/github/SlabberP/Prediction-of-Product-Sales/blob/main/Headers.ipynb\" target=\"_parent\"><img src=\"https://colab.research.google.com/assets/colab-badge.svg\" alt=\"Open In Colab\"/></a>"
      ]
    },
    {
      "cell_type": "markdown",
      "source": [
        "# **Prediction of Product Sales**"
      ],
      "metadata": {
        "id": "zBM8LGIEU1qU"
      }
    },
    {
      "cell_type": "markdown",
      "source": [
        "*   Author: Pieter Slabber\n",
        "\n",
        "\n"
      ],
      "metadata": {
        "id": "Y6Oh6HSPX6Bv"
      }
    },
    {
      "cell_type": "markdown",
      "source": [
        "# **Project Overview**"
      ],
      "metadata": {
        "id": "_szsmNccWTRp"
      }
    },
    {
      "cell_type": "markdown",
      "source": [
        "# **Load and Inspect Data**"
      ],
      "metadata": {
        "id": "uV4sGuiAV0WH"
      }
    },
    {
      "cell_type": "code",
      "execution_count": null,
      "metadata": {
        "id": "dD9QTTuE8vOj"
      },
      "outputs": [],
      "source": []
    },
    {
      "cell_type": "markdown",
      "source": [
        "# **Clean Data**"
      ],
      "metadata": {
        "id": "uQiy6YGsV9KZ"
      }
    },
    {
      "cell_type": "code",
      "source": [],
      "metadata": {
        "id": "J5jwC3cBV8gs"
      },
      "execution_count": null,
      "outputs": []
    },
    {
      "cell_type": "markdown",
      "source": [
        "# **Exploratory Data Analysis**"
      ],
      "metadata": {
        "id": "XEOM0FDDWjaO"
      }
    },
    {
      "cell_type": "code",
      "source": [],
      "metadata": {
        "id": "8_4VVNb5WrQu"
      },
      "execution_count": null,
      "outputs": []
    },
    {
      "cell_type": "markdown",
      "source": [
        "# **Feature Inspection**"
      ],
      "metadata": {
        "id": "QNaz-vO6Wsvk"
      }
    },
    {
      "cell_type": "code",
      "source": [],
      "metadata": {
        "id": "TjrQK9BHWxiy"
      },
      "execution_count": null,
      "outputs": []
    }
  ]
}